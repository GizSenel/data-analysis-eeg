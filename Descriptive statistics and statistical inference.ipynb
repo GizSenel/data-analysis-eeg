{
 "cells": [
  {
   "cell_type": "code",
   "execution_count": 1,
   "metadata": {
    "collapsed": true
   },
   "outputs": [],
   "source": [
    "import scipy.io\n",
    "from numpy import *\n",
    "import numpy as np\n",
    "import matplotlib \n",
    "from matplotlib.mlab import *\n",
    "from matplotlib import pyplot as plt\n",
    "from scipy.io import loadmat\n",
    "from scipy.signal import periodogram, welch, spectrogram\n",
    "\n",
    "% matplotlib inline\n",
    "\n",
    "data = loadmat(\"eeg.mat\")\n",
    "hd,hdh=data['hd'],data['hdh']\n",
    "rec,rech=data['rec'],data['rech'][0]\n",
    "\n"
   ]
  },
  {
   "cell_type": "markdown",
   "metadata": {},
   "source": [
    "### Exercise 1 without logarithm transformation"
   ]
  },
  {
   "cell_type": "code",
   "execution_count": 2,
   "metadata": {
    "scrolled": false
   },
   "outputs": [
    {
     "name": "stdout",
     "output_type": "stream",
     "text": [
      "(2830, 3000)\n",
      "8490000\n",
      "2831\n",
      "2830\n",
      "(2830, 3000)\n",
      "(2830, 3000)\n"
     ]
    }
   ],
   "source": [
    "fs = 100 # EEG was acquired at 100 Hz\n",
    "\n",
    "data = rec[1,:] # EEG recording\n",
    "\n",
    "\n",
    "eeg = data.reshape(len(rech)-1,3000) # The EEG matrix \n",
    "# print(data.size) prints 8490000, dividing it to 3000 gives me 2830. \n",
    "# however, print (len(rech)) is equal to 2831, that's why I subtracted 1 from len(rech)\n",
    "\n",
    "print(eeg.shape)\n",
    "print(data.size)\n",
    "print(len(rech))\n",
    "print(int((data.size)/3000))\n",
    "\n",
    "row_means = np.mean(eeg, axis=1) # Mean across the second (column) axis\n",
    "\n",
    "eeg_new = (eeg.transpose()-row_means).transpose() # I have used transpose function to subtract because the leading axes had the same dimension but not trailing axes. \n",
    "\n",
    "print (shape(eeg))\n",
    "print (shape(eeg_new))\n",
    "\n",
    "F, Pxx = welch(eeg_new, fs, nperseg=1024)"
   ]
  },
  {
   "cell_type": "markdown",
   "metadata": {},
   "source": [
    "## Exercise 1\n",
    "This exercise should help you get a first intuition on the difference between\n",
    "mean and std, median and inter-quartile range. The first are parametric\n",
    "statistics, meaning they assume you have an underlying normal distribution\n",
    "from which you sampled your data. The latter don’t.\n",
    "\n",
    "#### 1. As an example, start by selecting the power of all your segments on 8hz."
   ]
  },
  {
   "cell_type": "code",
   "execution_count": 3,
   "metadata": {
    "scrolled": false
   },
   "outputs": [
    {
     "name": "stdout",
     "output_type": "stream",
     "text": [
      "indeces:\n",
      "82\n"
     ]
    },
    {
     "data": {
      "text/plain": [
       "(array([  1.57600000e+03,   8.13000000e+02,   1.64000000e+02,\n",
       "          8.60000000e+01,   3.30000000e+01,   2.40000000e+01,\n",
       "          2.30000000e+01,   2.00000000e+01,   1.30000000e+01,\n",
       "          8.00000000e+00,   6.00000000e+00,   8.00000000e+00,\n",
       "          6.00000000e+00,   9.00000000e+00,   3.00000000e+00,\n",
       "          5.00000000e+00,   4.00000000e+00,   4.00000000e+00,\n",
       "          4.00000000e+00,   1.00000000e+00,   2.00000000e+00,\n",
       "          3.00000000e+00,   4.00000000e+00,   1.00000000e+00,\n",
       "          3.00000000e+00,   0.00000000e+00,   1.00000000e+00,\n",
       "          1.00000000e+00,   1.00000000e+00,   0.00000000e+00,\n",
       "          0.00000000e+00,   0.00000000e+00,   0.00000000e+00,\n",
       "          0.00000000e+00,   0.00000000e+00,   1.00000000e+00,\n",
       "          0.00000000e+00,   0.00000000e+00,   0.00000000e+00,\n",
       "          1.00000000e+00,   1.00000000e+00,   0.00000000e+00,\n",
       "          0.00000000e+00,   0.00000000e+00,   0.00000000e+00,\n",
       "          0.00000000e+00,   0.00000000e+00,   0.00000000e+00,\n",
       "          0.00000000e+00,   1.00000000e+00]),\n",
       " array([   0.20209637,    2.26707985,    4.33206332,    6.3970468 ,\n",
       "           8.46203028,   10.52701376,   12.59199723,   14.65698071,\n",
       "          16.72196419,   18.78694766,   20.85193114,   22.91691462,\n",
       "          24.98189809,   27.04688157,   29.11186505,   31.17684852,\n",
       "          33.241832  ,   35.30681548,   37.37179895,   39.43678243,\n",
       "          41.50176591,   43.56674939,   45.63173286,   47.69671634,\n",
       "          49.76169982,   51.82668329,   53.89166677,   55.95665025,\n",
       "          58.02163372,   60.0866172 ,   62.15160068,   64.21658415,\n",
       "          66.28156763,   68.34655111,   70.41153458,   72.47651806,\n",
       "          74.54150154,   76.60648502,   78.67146849,   80.73645197,\n",
       "          82.80143545,   84.86641892,   86.9314024 ,   88.99638588,\n",
       "          91.06136935,   93.12635283,   95.19133631,   97.25631978,\n",
       "          99.32130326,  101.38628674,  103.45127021]),\n",
       " <a list of 50 Patch objects>)"
      ]
     },
     "execution_count": 3,
     "metadata": {},
     "output_type": "execute_result"
    },
    {
     "data": {
      "image/png": "[encoded data removed]",
      "text/plain": [
       "<matplotlib.figure.Figure at 0x1ce9a2d89b0>"
      ]
     },
     "metadata": {},
     "output_type": "display_data"
    }
   ],
   "source": [
    "def indices(a, func):\n",
    "    return [i for (i, val) in enumerate(a) if func(val)]\n",
    "\n",
    "inds = indices(F, lambda x: x > 8)[0]\n",
    "\n",
    "print (\"indeces:\") \n",
    "print(inds)\n",
    "\n",
    "p8 = Pxx[:,inds]\n",
    "\n",
    "plt.subplot(2,1,1)\n",
    "plt.plot(p8)\n",
    "\n",
    "plt.subplot(2,1,2)\n",
    "plt.hist(p8, bins=50, color=\"blue\", edgecolor=\"pink\")"
   ]
  },
  {
   "cell_type": "markdown",
   "metadata": {},
   "source": [
    "#### 2.We are going to look only at sleep stages, so divide your data in two groups: NREM12 and NREM34, based on the hypnogram in rech.\n"
   ]
  },
  {
   "cell_type": "code",
   "execution_count": 9,
   "metadata": {
    "scrolled": false
   },
   "outputs": [],
   "source": [
    "\n",
    "sdata=rech[:-1]\n",
    "sp12 = p8 [(sdata == 1) | (sdata==2)]\n",
    "sp34 = p8 [(sdata == 3) | (sdata==4)]\n",
    "\n",
    "nrem12 = np.where(np.logical_or(rech==1,rech==2))\n",
    "nrem34 = np.where(np.logical_or(rech==3,rech==4))\n",
    "\n",
    "#print (nrem12)\n",
    "#print (len(sp12) , len(sp34))\n",
    "#print(sp12)\n",
    "size(p8)\n",
    "nrem12x= [p8[x] for x in nrem12]\n",
    "nrem34x= [p8[x] for x in nrem34]"
   ]
  },
  {
   "cell_type": "code",
   "execution_count": 7,
   "metadata": {},
   "outputs": [
    {
     "name": "stdout",
     "output_type": "stream",
     "text": [
      "2831\n",
      "2830\n",
      "(2830, 3000)\n"
     ]
    }
   ],
   "source": [
    "nrem12 = np.where(np.logical_or(rech==1,rech==2))\n",
    "nrem34 = np.where(np.logical_or(rech==3,rech==4))\n",
    "\n",
    "sdata=np.repeat(rech[:-1],30*fs)\n",
    "p8data = np.repeat(p8, 30*fs)\n",
    "\n",
    "print(size(rech))\n",
    "print(size(p8))\n",
    "\n",
    "print(shape(eeg_new))\n",
    "\n",
    "s12 = p8data[(sdata==1) | (sdata==2)]\n",
    "s34 = p8data[(sdata==3) | (sdata==4)]"
   ]
  },
  {
   "cell_type": "markdown",
   "metadata": {},
   "source": [
    "#### 3.Now use hist to plot the two distributions (for NREM12 and NREM34) of spectral power at 8 Hz. Do they look Gaussian? Do you think they are different?\n",
    "Hint: For better visualization, use the same bins for both distributions."
   ]
  },
  {
   "cell_type": "code",
   "execution_count": 10,
   "metadata": {
    "scrolled": false
   },
   "outputs": [
    {
     "data": {
      "text/plain": [
       "(array([  1.,   2.,   4.,   6.,   9.,   8.,  13.,  12.,  15.,  20.,  12.,\n",
       "         12.,  16.,  16.,  10.,  15.,  11.,  18.,   9.,  14.,  10.,   7.,\n",
       "          4.,   9.,   5.,   2.,   4.,   1.,   6.,   0.,   1.,   7.,   2.,\n",
       "          1.,   1.,   0.,   0.,   0.,   2.,   2.,   0.,   0.,   2.,   0.,\n",
       "          0.,   0.,   0.,   1.,   2.,   1.,   1.,   0.,   0.,   1.,   0.,\n",
       "          0.,   0.,   0.,   0.,   0.,   0.,   0.,   0.,   0.,   0.,   0.,\n",
       "          0.,   1.,   0.,   0.,   0.,   0.,   0.,   0.,   0.,   0.,   0.,\n",
       "          0.,   0.,   1.]),\n",
       " array([  0.20209637,   0.3668971 ,   0.53169783,   0.69649856,\n",
       "          0.86129929,   1.02610001,   1.19090074,   1.35570147,\n",
       "          1.5205022 ,   1.68530293,   1.85010366,   2.01490439,\n",
       "          2.17970512,   2.34450584,   2.50930657,   2.6741073 ,\n",
       "          2.83890803,   3.00370876,   3.16850949,   3.33331022,\n",
       "          3.49811095,   3.66291167,   3.8277124 ,   3.99251313,\n",
       "          4.15731386,   4.32211459,   4.48691532,   4.65171605,\n",
       "          4.81651678,   4.9813175 ,   5.14611823,   5.31091896,\n",
       "          5.47571969,   5.64052042,   5.80532115,   5.97012188,\n",
       "          6.13492261,   6.29972333,   6.46452406,   6.62932479,\n",
       "          6.79412552,   6.95892625,   7.12372698,   7.28852771,\n",
       "          7.45332844,   7.61812916,   7.78292989,   7.94773062,\n",
       "          8.11253135,   8.27733208,   8.44213281,   8.60693354,\n",
       "          8.77173427,   8.93653499,   9.10133572,   9.26613645,\n",
       "          9.43093718,   9.59573791,   9.76053864,   9.92533937,\n",
       "         10.0901401 ,  10.25494082,  10.41974155,  10.58454228,\n",
       "         10.74934301,  10.91414374,  11.07894447,  11.2437452 ,\n",
       "         11.40854592,  11.57334665,  11.73814738,  11.90294811,\n",
       "         12.06774884,  12.23254957,  12.3973503 ,  12.56215103,\n",
       "         12.72695175,  12.89175248,  13.05655321,  13.22135394,  13.38615467]),\n",
       " <a list of 80 Patch objects>)"
      ]
     },
     "execution_count": 10,
     "metadata": {},
     "output_type": "execute_result"
    },
    {
     "data": {
      "image/png": "[encoded data removed]",
      "text/plain": [
       "<matplotlib.figure.Figure at 0x1cebde31048>"
      ]
     },
     "metadata": {},
     "output_type": "display_data"
    }
   ],
   "source": [
    "plt.hist(sp12, bins=80, edgecolor=\"pink\")\n",
    "plt.hist(sp34, bins=80, edgecolor=\"white\")\n"
   ]
  },
  {
   "cell_type": "code",
   "execution_count": null,
   "metadata": {
    "collapsed": true
   },
   "outputs": [],
   "source": []
  }
 ],
 "metadata": {
  "kernelspec": {
   "display_name": "Python 3",
   "language": "python",
   "name": "python3"
  },
  "language_info": {
   "codemirror_mode": {
    "name": "ipython",
    "version": 3
   },
   "file_extension": ".py",
   "mimetype": "text/x-python",
   "name": "python",
   "nbconvert_exporter": "python",
   "pygments_lexer": "ipython3",
   "version": "3.6.4"
  }
 },
 "nbformat": 4,
 "nbformat_minor": 2
}
